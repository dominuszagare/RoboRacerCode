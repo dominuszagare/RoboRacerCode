{
 "cells": [
  {
   "cell_type": "code",
   "execution_count": 1,
   "id": "4bae14f7",
   "metadata": {},
   "outputs": [
    {
     "name": "stdout",
     "output_type": "stream",
     "text": [
      " * Serving Flask app '__main__' (lazy loading)\n",
      " * Environment: production\n",
      "\u001b[31m   WARNING: This is a development server. Do not use it in a production deployment.\u001b[0m\n",
      "\u001b[2m   Use a production WSGI server instead.\u001b[0m\n",
      " * Debug mode: on\n"
     ]
    },
    {
     "name": "stderr",
     "output_type": "stream",
     "text": [
      " * Restarting with stat\n"
     ]
    },
    {
     "ename": "SystemExit",
     "evalue": "1",
     "output_type": "error",
     "traceback": [
      "An exception has occurred, use %tb to see the full traceback.\n",
      "\u001b[1;31mSystemExit\u001b[0m\u001b[1;31m:\u001b[0m 1\n"
     ]
    },
    {
     "name": "stderr",
     "output_type": "stream",
     "text": [
      "D:\\WindowsPrograms\\Conda\\envs\\Basic\\lib\\site-packages\\IPython\\core\\interactiveshell.py:3445: UserWarning: To exit: use 'exit', 'quit', or Ctrl-D.\n",
      "  warn(\"To exit: use 'exit', 'quit', or Ctrl-D.\", stacklevel=1)\n"
     ]
    }
   ],
   "source": [
    "from flask import Flask, render_template, request\n",
    "import serial\n",
    "import threading\n",
    "\n",
    "app = Flask(__name__,\n",
    "            static_url_path='', \n",
    "            static_folder='static',\n",
    "            template_folder='templates')\n",
    "@app.route('/')\n",
    "\n",
    "@app.get('/shutdown')\n",
    "def shutdown():\n",
    "    shutdown_server()\n",
    "    return 'Server shutting down...'\n",
    "\n",
    "def index():\n",
    "    return render_template('index.html')\n",
    "\n",
    "    \n",
    "SERIAL_PORT = 'COM5'\n",
    "SERIAL_RATE = 115200\n",
    "\n",
    "class IMU:\n",
    "    def _init_(self):\n",
    "        self.AccXcal = 0\n",
    "        self.AccYcal = 0\n",
    "        self.AccZcal = 0\n",
    "\n",
    "def readSerialData20():\n",
    "    ser = []\n",
    "    try:\n",
    "        print(\"Opening port:\", SERIAL_PORT)\n",
    "        ser = serial.Serial(SERIAL_PORT, SERIAL_RATE)\n",
    "\n",
    "    except serial.SerialException:\n",
    "        print(\"Culd not open serial port!\")\n",
    "        exit\n",
    "        \n",
    "    while True:\n",
    "        try:\n",
    "            data = ser.read(20)\n",
    "            #print(data)\n",
    "            if data is not None:\n",
    "                IMU.head = int.from_bytes(data[0:2],\"little\")\n",
    "                IMU.AccX = int.from_bytes(data[2:4],\"little\", signed=True) #+-4g obcutljivost 2/(2^16/4)\n",
    "                IMU.AccY = int.from_bytes(data[4:6],\"little\", signed=True) #stevila so v enotah 1G\n",
    "                IMU.AccZ = int.from_bytes(data[6:8],\"little\", signed=True)\n",
    "                IMU.GyroX = int.from_bytes(data[8:10],\"little\", signed=True)\n",
    "                IMU.GyroY = int.from_bytes(data[10:12],\"little\", signed=True)\n",
    "                IMU.GyroZ = int.from_bytes(data[12:14],\"little\", signed=True)\n",
    "                IMU.MagX = int.from_bytes(data[14:16],\"little\", signed=True)\n",
    "                IMU.MagY = int.from_bytes(data[16:18],\"little\", signed=True)\n",
    "                IMU.MagZ = int.from_bytes(data[18:20],\"little\", signed=True)\n",
    "                print(IMU.AccX,IMU.AccY,IMU.AccZ)\n",
    "            \n",
    "        except serial.SerialException:\n",
    "            print(\"Closing serial\")\n",
    "            ser.close()\n",
    "            break\n",
    "\n",
    "if __name__ == '__main__':\n",
    "    \n",
    "    t1 = threading.Thread(target=readSerialData20, args=())\n",
    "    t1.start()\n",
    "    \n",
    "    app.run(debug=True, port=6555, host='0.0.0.0')\n",
    "    #t1.join()\n",
    "    print(\"Done\")\n",
    "\n",
    "    \n",
    "    "
   ]
  },
  {
   "cell_type": "code",
   "execution_count": 6,
   "id": "d9cc943f",
   "metadata": {},
   "outputs": [],
   "source": [
    "ser.close()"
   ]
  },
  {
   "cell_type": "code",
   "execution_count": null,
   "id": "8d37d276",
   "metadata": {},
   "outputs": [],
   "source": []
  },
  {
   "cell_type": "code",
   "execution_count": null,
   "id": "b8b502c7",
   "metadata": {},
   "outputs": [],
   "source": [
    "def readSerialData20(ser):\n",
    "    while True:\n",
    "        sync = 0\n",
    "        syncCount = 0\n",
    "        while sync < 3:\n",
    "            #byte_in = ser.read(20)\n",
    "            \n",
    "            byte_in = ser.read()\n",
    "            print(byte_in)\n",
    "            if sync == 0:\n",
    "                if byte_in == b'\\xAB':\n",
    "                    sync = 1\n",
    "                    syncCount = 0\n",
    "                    imu_data_raw[0] = int.from_bytes(byte_in, byteorder='big')\n",
    "                    continue\n",
    "                    \n",
    "            if sync == 1:\n",
    "                if byte_in == b'\\xAA':\n",
    "                    sync = 2\n",
    "                    syncCount = 1\n",
    "                    imu_data_raw[1] = int.from_bytes(byte_in, byteorder='big')\n",
    "                    continue\n",
    "                    \n",
    "\n",
    "            if sync ==2:\n",
    "                syncCount += 1\n",
    "                imu_data_raw[syncCount] = int.from_bytes(byte_in, byteorder='big')\n",
    "                if syncCount >= PACKET_LENGHT-1:\n",
    "                    number += 1\n",
    "                    print(imu_data_raw,number)\n",
    "                    break\n",
    "\n",
    "            if syncCount == PACKET_LENGHT - 1:\n",
    "                #print(imu_data_raw)\n",
    "                sync = 3\n"
   ]
  }
 ],
 "metadata": {
  "kernelspec": {
   "display_name": "Python 3",
   "language": "python",
   "name": "python3"
  },
  "language_info": {
   "codemirror_mode": {
    "name": "ipython",
    "version": 3
   },
   "file_extension": ".py",
   "mimetype": "text/x-python",
   "name": "python",
   "nbconvert_exporter": "python",
   "pygments_lexer": "ipython3",
   "version": "3.8.10"
  }
 },
 "nbformat": 4,
 "nbformat_minor": 5
}
